{
 "cells": [
  {
   "cell_type": "code",
   "execution_count": 78,
   "id": "df4761e2",
   "metadata": {
    "ExecuteTime": {
     "end_time": "2024-02-17T08:07:18.779064Z",
     "start_time": "2024-02-17T08:07:18.775329Z"
    }
   },
   "outputs": [],
   "source": [
    "#import libraries\n",
    "import os\n",
    "import json\n",
    "import math\n",
    "import csv\n",
    "from PIL import Image\n",
    "from IPython.display import display\n",
    "import matplotlib.pyplot as plt\n",
    "from matplotlib.patches import Polygon\n",
    "from shapely.geometry import Polygon as ShapelyPolygon\n",
    "from matplotlib.collections import PatchCollection\n",
    "import pandas as pd\n",
    "import numpy as np\n",
    "from matplotlib.patches import Rectangle\n",
    "from tabulate import tabulate"
   ]
  },
  {
   "cell_type": "code",
   "execution_count": 79,
   "id": "d4e814e5",
   "metadata": {
    "ExecuteTime": {
     "end_time": "2024-02-17T08:07:19.765193Z",
     "start_time": "2024-02-17T08:07:19.762181Z"
    }
   },
   "outputs": [],
   "source": [
    "def read_file(path):\n",
    "    with open(path, 'r') as file:\n",
    "        # Read the content of the file\n",
    "        file_content = file.read()\n",
    "    return file_content"
   ]
  },
  {
   "cell_type": "code",
   "execution_count": 80,
   "id": "d21cb4fd",
   "metadata": {
    "ExecuteTime": {
     "end_time": "2024-02-17T08:07:20.243607Z",
     "start_time": "2024-02-17T08:07:20.237730Z"
    }
   },
   "outputs": [],
   "source": [
    "def parse_text_blocks(content):\n",
    "    lines = content.split('\\n')\n",
    "    data = []\n",
    "    id_counter = 0\n",
    "    for line in lines:\n",
    "        if line.strip() == '':\n",
    "            continue\n",
    "        values = line.split()\n",
    "        if len(values) < 5:\n",
    "            continue\n",
    "        x0, y0, x1, y1 = map(int, values[:4])\n",
    "        text = ' '.join(values[4:-1])  # Exclude the last value which represents text_role\n",
    "        text_role = values[-1]\n",
    "        polygon = {\n",
    "            'x0': x0,\n",
    "            'x1': x1,\n",
    "            'x2': x1,\n",
    "            'x3': x0,\n",
    "            'y0': y0,\n",
    "            'y1': y0,\n",
    "            'y2': y1,\n",
    "            'y3': y1\n",
    "        }\n",
    "        data.append({'id': id_counter, 'polygon': polygon, 'text': text, 'text_role': text_role})\n",
    "        id_counter += 1\n",
    "    return data"
   ]
  },
  {
   "cell_type": "code",
   "execution_count": 81,
   "id": "db114347",
   "metadata": {
    "ExecuteTime": {
     "end_time": "2024-02-17T08:07:20.676878Z",
     "start_time": "2024-02-17T08:07:20.672639Z"
    }
   },
   "outputs": [],
   "source": [
    "def parse_tick_data(content):\n",
    "    tick_data = {'x-axis': [], 'y-axis': []}\n",
    "    lines = content.split('\\n')\n",
    "    id_counter = 0\n",
    "    for line in lines:\n",
    "        if line.strip() == '':\n",
    "            continue\n",
    "        values = line.split()\n",
    "#         print(f\"values = {values}\")\n",
    "        x0, y0, x1, y1, text_role, axis_type, x, y = values\n",
    "        x0 = int(x0)\n",
    "        y0 = int(y0)\n",
    "        x1 = int(x1)\n",
    "        y1 = int(y1)\n",
    "#         x0, y0, x1, y1 = map(int, x0)\n",
    "        x, y = map(int, (x, y))\n",
    "        tick_point = {'x': x, 'y': y}\n",
    "        tick_info = {'id': id_counter, 'tick_pt': tick_point}\n",
    "        if 'x_axis' in axis_type:\n",
    "            tick_data['x-axis'].append(tick_info)\n",
    "        else:\n",
    "            tick_data['y-axis'].append(tick_info)\n",
    "        id_counter += 1\n",
    "    return tick_data"
   ]
  },
  {
   "cell_type": "code",
   "execution_count": 82,
   "id": "49982f0c",
   "metadata": {
    "ExecuteTime": {
     "end_time": "2024-02-17T08:07:21.078172Z",
     "start_time": "2024-02-17T08:07:21.071719Z"
    }
   },
   "outputs": [],
   "source": [
    "def calculate_intersection_over_area(detected_bar, ground_truth_bar):\n",
    "    # Calculate coordinates of intersection rectangle\n",
    "    x_left = max(detected_bar['x0'], ground_truth_bar['x0'])\n",
    "    y_bottom = max(detected_bar['y0'], ground_truth_bar['y0'])\n",
    "    x_right = min(detected_bar['x0'] + detected_bar['width'], ground_truth_bar['x0'] + ground_truth_bar['width'])\n",
    "    y_top = min(detected_bar['y0'] + detected_bar['height'], ground_truth_bar['y0'] + ground_truth_bar['height'])\n",
    "    \n",
    "    # Calculate intersection area\n",
    "    intersection_area = max(0, x_right - x_left) * max(0, y_top - y_bottom)\n",
    "    \n",
    "    # Calculate IoA\n",
    "    detected_area = detected_bar['width'] * detected_bar['height']\n",
    "    ground_truth_area = ground_truth_bar['width'] * ground_truth_bar['height']\n",
    "    IoA = intersection_area / (detected_area + ground_truth_area - intersection_area)\n",
    "    \n",
    "    return IoA\n",
    "\n",
    "def map_bars(detected_bars, ground_truth_bars):\n",
    "    mapped_bars = []\n",
    "    gt_bars = {}\n",
    "    dt_bars = {}\n",
    "    idd = 1\n",
    "    for gt_bar in ground_truth_bars:\n",
    "        max_IoA = 0\n",
    "        mapped_bar = None\n",
    "        for dt_bar in detected_bars:\n",
    "#             print(f\"dt_bar = {dt_bar}\")\n",
    "#             print(f\"gt_bar = {gt_bar}\")\n",
    "            IoA = calculate_intersection_over_area(dt_bar, gt_bar)\n",
    "#             print(IoA)\n",
    "            if IoA > max_IoA:\n",
    "                max_IoA = IoA\n",
    "                mapped_bar = dt_bar\n",
    "        if mapped_bar is not None:\n",
    "            gt_bars[idd] = gt_bar\n",
    "            dt_bars[idd] = mapped_bar\n",
    "            idd += 1\n",
    "            mapped_bars.append((gt_bar, mapped_bar))\n",
    "            detected_bars.remove(mapped_bar)\n",
    "    \n",
    "    return gt_bars,dt_bars"
   ]
  },
  {
   "cell_type": "code",
   "execution_count": 83,
   "id": "b288a664",
   "metadata": {
    "ExecuteTime": {
     "end_time": "2024-02-17T08:07:21.758592Z",
     "start_time": "2024-02-17T08:07:21.755120Z"
    }
   },
   "outputs": [],
   "source": [
    "def parse_bar_data(content):\n",
    "    bars = []\n",
    "    lines = content.split('\\n')\n",
    "    for line in lines:\n",
    "        if line.strip() == '':\n",
    "            continue\n",
    "        values = line.split()\n",
    "        x0, y0, x1, y1 = map(int, values)\n",
    "        height = abs(y1 - y0)\n",
    "        width = abs(x1 - x0)\n",
    "        bars.append({'height': height, 'width': width, 'x0': x0, 'y0': y0})\n",
    "    return {'bars': bars}"
   ]
  },
  {
   "cell_type": "code",
   "outputs": [],
   "source": [
    "def is_numerical(text):\n",
    "    try:\n",
    "        # Remove commas and other special characters\n",
    "        cleaned_text = ''.join(char for char in text if char.isdigit() or char in ['.', '-'])\n",
    "        float(cleaned_text)\n",
    "        return True\n",
    "    except ValueError:\n",
    "        return False\n"
   ],
   "metadata": {
    "collapsed": false,
    "ExecuteTime": {
     "end_time": "2024-02-17T09:02:07.020242Z",
     "start_time": "2024-02-17T09:02:07.017410Z"
    }
   },
   "id": "d671bfe6cce8ca28",
   "execution_count": 120
  },
  {
   "cell_type": "code",
   "outputs": [],
   "source": [
    "def find_xaxis_label(bar, xaxis_labels):\n",
    "    bar_center_x = (bar[0][1]['y0'] + bar[0][1]['y0'] + bar[0][1]['height']) / 2\n",
    "    for label in xaxis_labels:\n",
    "        if label['polygon']['y0'] <= bar_center_x <= label['polygon']['y1']:\n",
    "            return label['text']\n",
    "    return None"
   ],
   "metadata": {
    "collapsed": false,
    "ExecuteTime": {
     "end_time": "2024-02-17T09:48:08.474864Z",
     "start_time": "2024-02-17T09:48:08.471861Z"
    }
   },
   "id": "e3fa4fd7e7fe694c",
   "execution_count": 134
  },
  {
   "cell_type": "code",
   "execution_count": 84,
   "id": "90718bdf",
   "metadata": {
    "ExecuteTime": {
     "end_time": "2024-02-17T08:07:22.162791Z",
     "start_time": "2024-02-17T08:07:22.154564Z"
    }
   },
   "outputs": [],
   "source": [
    "def polygon_to_key(polygon):\n",
    "    # Convert the polygon to a hashable tuple representation\n",
    "    return tuple(sorted(polygon.items()))\n",
    "\n",
    "\n",
    "def find_polygon_center(vertices):\n",
    "    num_vertices = len(vertices)\n",
    "\n",
    "    if num_vertices < 3:\n",
    "        raise ValueError(\"A polygon must have at least 3 vertices.\")\n",
    "\n",
    "    sum_x = sum(v[0] for v in vertices)\n",
    "    sum_y = sum(v[1] for v in vertices)\n",
    "\n",
    "    center_x = sum_x / num_vertices\n",
    "    center_y = sum_y / num_vertices\n",
    "\n",
    "    return center_x, center_y\n",
    "\n",
    "def assign_polygons_to_ticks(xaxis_ticks, yaxis_ticks, polygons):\n",
    "    assigned_xaxis_polygons = []\n",
    "    assigned_yaxis_polygons = []\n",
    "    box_tick_mapping = []\n",
    "\n",
    "\n",
    "    for polygon in polygons:\n",
    "        idd = polygon['id']\n",
    "        text_role = polygon['text_role']\n",
    "        \n",
    "#         temp =  text_roles.loc[text_roles['text'] == polygon['text'],'role'].values[0]\n",
    "        if text_role != 'tick_label':\n",
    "            continue\n",
    "            \n",
    "        polygon_vertices = [\n",
    "            (polygon['polygon'][f'x{i}'], polygon['polygon'][f'y{i}']) for i in range(4)\n",
    "        ]\n",
    "        center = find_polygon_center(polygon_vertices)\n",
    "\n",
    "        # Find the nearest tick label (x, y) coordinate\n",
    "#         x_distances = [abs(center[0] - tick['tick_pt']['x']) for tick in xaxis_ticks]\n",
    "#         y_distances = [abs(center[1] - tick['tick_pt']['y']) for tick in yaxis_ticks]\n",
    "        \n",
    "        x_distances = 0\n",
    "        y_distances = 0\n",
    "        \n",
    "        x1 = center[0]\n",
    "        y1 = center[1]\n",
    "        \n",
    "        min_xtick = []\n",
    "        min_ytick = []\n",
    "        \n",
    "        for item in xaxis_ticks:\n",
    "            x2 = item['tick_pt']['x']\n",
    "            y2 = item['tick_pt']['y']\n",
    "            dist = math.sqrt((x2-x1) ** 2 + (y2-y1)**2)\n",
    "            \n",
    "            if x_distances == 0:\n",
    "                x_distances = dist\n",
    "                min_xtick.append((x2,y2))\n",
    "            elif x_distances > dist:\n",
    "                x_distances = dist\n",
    "                min_xtick[0] = ((x2,y2))\n",
    "                \n",
    "        \n",
    "        for item in yaxis_ticks:\n",
    "            x2 = item['tick_pt']['x']\n",
    "            y2 = item['tick_pt']['y']\n",
    "            dist = math.sqrt((x2-x1)**2 + (y2-y1)**2)\n",
    "            \n",
    "            if y_distances == 0:\n",
    "                y_distances = dist\n",
    "                min_ytick.append((x2,y2))\n",
    "            elif y_distances > dist:\n",
    "                y_distances =  dist\n",
    "                min_ytick.append((x2,y2))\n",
    "                \n",
    "        if len(xaxis_ticks) == 0:\n",
    "            assigned_yaxis_polygons.append(polygon)\n",
    "            box_tick_mapping.append((polygon, min_ytick))\n",
    "            continue\n",
    "        \n",
    "    \n",
    "        if x_distances <= y_distances:\n",
    "            assigned_xaxis_polygons.append(polygon)\n",
    "            box_tick_mapping.append((polygon,min_xtick))\n",
    "        else:\n",
    "            assigned_yaxis_polygons.append(polygon)\n",
    "            box_tick_mapping.append((polygon,min_ytick))\n",
    "\n",
    "    return assigned_xaxis_polygons, assigned_yaxis_polygons, box_tick_mapping"
   ]
  },
  {
   "cell_type": "code",
   "execution_count": 85,
   "id": "f0b2830c",
   "metadata": {
    "ExecuteTime": {
     "end_time": "2024-02-17T08:07:23.104722Z",
     "start_time": "2024-02-17T08:07:23.098637Z"
    }
   },
   "outputs": [],
   "source": [
    "def per_pixel_diff(yaxis_ticks,yaxis_polygons):\n",
    "#     print(f\"yaxis_ticks = {yaxis_ticks}\")\n",
    "    yaxis_polygons = sorted(yaxis_polygons, key=lambda x: x['polygon']['x0'])\n",
    "    pixel_diff = abs(yaxis_ticks[0]['tick_pt']['x'] - yaxis_ticks[1]['tick_pt']['x'])\n",
    "    yy1 = float(yaxis_polygons[0]['text'].replace(\"%\", \"\"))\n",
    "    yy2 = float(yaxis_polygons[1]['text'].replace(\"%\",\"\"))\n",
    "#     print(f\"yy1 = {yy1} yy2 = {yy2} yaxis_ticks[0] = {yaxis_ticks[0]} yaxis_ticks[1] = {yaxis_ticks[1]}\")\n",
    "    val_diff_bw_two_coord = abs(yy1 - yy2)\n",
    "    one_pixel_val = val_diff_bw_two_coord / pixel_diff\n",
    "    return one_pixel_val"
   ]
  },
  {
   "cell_type": "code",
   "execution_count": 86,
   "id": "19a9831c",
   "metadata": {
    "ExecuteTime": {
     "end_time": "2024-02-17T08:07:23.536609Z",
     "start_time": "2024-02-17T08:07:23.533966Z"
    }
   },
   "outputs": [],
   "source": [
    "def sort_polygons(polygons):\n",
    "    sorted_polygons = sorted(polygons, key=lambda x: x['polygon']['y0'], reverse=True)\n",
    "    return sorted_polygons"
   ]
  },
  {
   "cell_type": "code",
   "execution_count": 87,
   "id": "e345bf3d",
   "metadata": {
    "ExecuteTime": {
     "end_time": "2024-02-17T08:07:24.506782Z",
     "start_time": "2024-02-17T08:07:24.502859Z"
    }
   },
   "outputs": [],
   "source": [
    "def sort_bars(bars):\n",
    "    sorted_bars = sorted(bars['bars'], key=lambda x: x['y0'], reverse=True)\n",
    "    return sorted_bars"
   ]
  },
  {
   "cell_type": "code",
   "execution_count": 88,
   "id": "2fa2cc8d",
   "metadata": {
    "ExecuteTime": {
     "end_time": "2024-02-17T08:07:25.376559Z",
     "start_time": "2024-02-17T08:07:25.372929Z"
    }
   },
   "outputs": [],
   "source": [
    "def predict_bar_values2(bars, yaxis_ticks,yaxis_polygons):\n",
    "    predicted_y_values = []\n",
    "    \n",
    "    sorted_bars = sorted(bars.items(), key=lambda x: x[1]['y0'], reverse=True)\n",
    "    \n",
    "#     print(yaxis_ticks)\n",
    "    \n",
    "    one_pixel_val = per_pixel_diff(yaxis_ticks,yaxis_polygons)\n",
    "    \n",
    "    for bar in sorted_bars:\n",
    "#         print(bar[1])\n",
    "        value = bar[1]['width'] * one_pixel_val\n",
    "        predicted_y_values.append((bar,value))\n",
    "    \n",
    "    return predicted_y_values;"
   ]
  },
  {
   "cell_type": "code",
   "execution_count": 89,
   "id": "be9dd8a3",
   "metadata": {
    "ExecuteTime": {
     "end_time": "2024-02-17T08:07:26.093480Z",
     "start_time": "2024-02-17T08:07:26.088717Z"
    }
   },
   "outputs": [],
   "source": [
    "def find_legend_pairs(polygons):\n",
    "    legend_pairs = []\n",
    "    for item in polygons:\n",
    "        if item['text_role'] == 'legend_label':\n",
    "            legend_pairs.append(item)\n",
    "    \n",
    "    return legend_pairs"
   ]
  },
  {
   "cell_type": "code",
   "execution_count": 157,
   "id": "e619b074",
   "metadata": {
    "ExecuteTime": {
     "end_time": "2024-02-17T10:02:23.598024Z",
     "start_time": "2024-02-17T10:02:23.590090Z"
    }
   },
   "outputs": [],
   "source": [
    "def data_extraction(predicted_y_values, polygons,legend_pairs):\n",
    "    sorted_polygons = sort_polygons(polygons)\n",
    "    \n",
    "    data_mapping = {}\n",
    "    \n",
    "    for polygon in polygons:\n",
    "        data_mapping[polygon['text']] = []\n",
    "    \n",
    "    \n",
    "    for item in predicted_y_values:\n",
    "        bar = item[0][1]\n",
    "        min_dist = 0\n",
    "        y_mapped_polygon = {}\n",
    "        for polygon in polygons:\n",
    "            polygon_vertices = [\n",
    "            (polygon['polygon'][f'x{i}'], polygon['polygon'][f'y{i}']) for i in range(4)]\n",
    "            # center = find_polygon_center(polygon_vertices)\n",
    "            center =  polygon['polygon']['x1'], (polygon['polygon']['y0'] + polygon['polygon']['y1'])/2\n",
    "            \n",
    "            x1, y1 = center[0], center[1]\n",
    "            \n",
    "            x2 = bar['x0']\n",
    "            y2 = (bar['y0'] + bar['height'] /2)\n",
    "            \n",
    "            dist =  math.sqrt((x2-x1)**2 + (y2-y1)**2)\n",
    "            print(f\"item = {item}\")\n",
    "            if min_dist == 0 or min_dist > dist:\n",
    "                y_mapped_polygon[item[0][0]] = polygon\n",
    "                min_dist = dist\n",
    "                \n",
    "        \n",
    "        data_mapping[y_mapped_polygon[item[0][0]]['text']].append(item)\n",
    "            \n",
    "    return data_mapping"
   ]
  },
  {
   "cell_type": "code",
   "execution_count": 158,
   "id": "be60dbb4",
   "metadata": {
    "ExecuteTime": {
     "end_time": "2024-02-17T10:02:24.787246Z",
     "start_time": "2024-02-17T10:02:24.781879Z"
    }
   },
   "outputs": [],
   "source": [
    "def parse_gt_bar_data(content):\n",
    "    bars = []\n",
    "    lines = content.split('\\n')\n",
    "    for line in lines:\n",
    "        if line.strip() == '':\n",
    "            continue\n",
    "        values = line.split()\n",
    "        x0, y0, x1, y1 = map(int, values[:-1])\n",
    "        value = float(values[-1])\n",
    "        height = abs(y1 - y0)\n",
    "        width = abs(x1 - x0)\n",
    "        bars.append({'height': height, 'width': width, 'x0': x0, 'y0': y0, 'value':value})\n",
    "    return {'bars': bars}"
   ]
  },
  {
   "cell_type": "code",
   "execution_count": 159,
   "id": "040728ca",
   "metadata": {
    "ExecuteTime": {
     "end_time": "2024-02-17T10:02:25.852165Z",
     "start_time": "2024-02-17T10:02:25.848609Z"
    }
   },
   "outputs": [],
   "source": [
    "image_path = \"./images/\"\n",
    "text_detect_role_path = \"./text_detect_role_classify/\"\n",
    "bar_plot_path = './Bar_plot_coordinates/'\n",
    "axis_analysis_path = './Axis_Analysis/'\n",
    "gt_coordinates_path = \"./GT_coordinate_value/\"\n"
   ]
  },
  {
   "cell_type": "code",
   "execution_count": 264,
   "id": "01233742",
   "metadata": {
    "ExecuteTime": {
     "end_time": "2024-02-17T11:43:59.797806Z",
     "start_time": "2024-02-17T11:43:59.791195Z"
    }
   },
   "outputs": [],
   "source": [
    "def dataTable(filename, text_result, data_mapping):\n",
    "    legend_pairs = find_legend_pairs(text_result)\n",
    "\n",
    "    num_of_legends = len(legend_pairs)\n",
    "\n",
    "    headers = []\n",
    "\n",
    "\n",
    "    headers.append(\"\")\n",
    "\n",
    "    for item in legend_pairs:\n",
    "        headers.append(item['text'])\n",
    "\n",
    "\n",
    "    if num_of_legends == 0:\n",
    "        headers.append(\"value\")\n",
    "\n",
    "    table = []\n",
    "\n",
    "    for item in data_mapping.items():\n",
    "        temp = []\n",
    "\n",
    "        temp.append(item[0])\n",
    "        cnt = 0\n",
    "\n",
    "        if len(item[1]) > num_of_legends and num_of_legends != 0:\n",
    "            print(f\"dataTable = {filename}\")\n",
    "            continue\n",
    "        for value in item[1]:\n",
    "            temp.append(value[1])\n",
    "            cnt += 1\n",
    "   \n",
    "        while cnt < num_of_legends:\n",
    "            temp.append(0)\n",
    "            cnt += 1\n",
    "\n",
    "        table.append(temp)\n",
    "\n",
    "    \n",
    "    csv_filename = filename.rsplit('.', 1)[0] + '.csv'\n",
    "    csv_filename = './csv_files/' + csv_filename\n",
    "\n",
    "    with open(csv_filename, 'w', newline='') as csvfile:\n",
    "        writer = csv.writer(csvfile)\n",
    "\n",
    "        writer.writerow(headers)\n",
    "\n",
    "        writer.writerows(table)\n",
    "        \n",
    "    return headers,table\n",
    "          "
   ]
  },
  {
   "cell_type": "code",
   "outputs": [],
   "source": [
    "def data_extraction_for_GT(gt_bar_results, polygons,legend_pairs):\n",
    "    sorted_polygons = sort_polygons(polygons)\n",
    "    sorted_bars = sorted(gt_bar_results['bars'], key=lambda x: x['y0'])\n",
    "    sorted_legends = sorted(legend_pairs, key=lambda x: x['polygon']['x0'], reverse=True)\n",
    "\n",
    "    num_of_legends = len(legend_pairs)\n",
    "\n",
    "    data_mapping = {}\n",
    "\n",
    "    for polygon in polygons:\n",
    "        data_mapping[polygon['text']] = []\n",
    "\n",
    "    n = 0\n",
    "\n",
    "    if num_of_legends == 0:\n",
    "        for i in range(0, len(sorted_bars)):\n",
    "            label = sorted_polygons[n]['text']\n",
    "\n",
    "            data_mapping[label].append(sorted_bars[i]['value'])\n",
    "\n",
    "\n",
    "        return data_mapping\n",
    "\n",
    "\n",
    "    n = 0\n",
    "\n",
    "    # print(f\"len(sorted_bars['bars']) = {sorted_bars}\")\n",
    "    for i in range(0,len(sorted_bars),num_of_legends):\n",
    "        # print(f\"sorted_polygons = {sorted_polygons}\")\n",
    "        label = sorted_polygons[n]['text']\n",
    "\n",
    "        for j in range(0,num_of_legends):\n",
    "            # print(sorted_bars[i+j])\n",
    "            data_mapping[label].append(sorted_bars[i+j]['value'])\n",
    "\n",
    "        n += 1\n",
    "\n",
    "    return data_mapping"
   ],
   "metadata": {
    "collapsed": false,
    "ExecuteTime": {
     "end_time": "2024-02-17T12:11:00.561564Z",
     "start_time": "2024-02-17T12:11:00.557152Z"
    }
   },
   "id": "ff0d0eb1ca5445bb",
   "execution_count": 312
  },
  {
   "cell_type": "code",
   "outputs": [],
   "source": [
    "def convert_table(table):\n",
    "    data_mapping = {}\n",
    "\n",
    "    for row in table:\n",
    "        data_mapping[row[0]] = row[1:]\n",
    "\n",
    "    return data_mapping\n"
   ],
   "metadata": {
    "collapsed": false,
    "ExecuteTime": {
     "end_time": "2024-02-17T12:11:01.423496Z",
     "start_time": "2024-02-17T12:11:01.417314Z"
    }
   },
   "id": "5d8edeaf7f8db0c",
   "execution_count": 313
  },
  {
   "cell_type": "code",
   "outputs": [],
   "source": [
    "def convert_data_for_metrics(data_mapping_gt, data_mapping_pred):\n",
    "    predictions = []\n",
    "    ground_truth = []\n",
    "\n",
    "    for key, value in data_mapping_gt.items():\n",
    "        # print(f\"value = {len(value)}\")\n",
    "        for item in value:\n",
    "            ground_truth.append((key,item))\n",
    "\n",
    "    for key, value in data_mapping_pred.items():\n",
    "        for item in value:\n",
    "            predictions.append((key,item))\n",
    "\n",
    "    return predictions, ground_truth"
   ],
   "metadata": {
    "collapsed": false,
    "ExecuteTime": {
     "end_time": "2024-02-17T12:11:02.301021Z",
     "start_time": "2024-02-17T12:11:02.295027Z"
    }
   },
   "id": "191bf980190d0a02",
   "execution_count": 314
  },
  {
   "cell_type": "code",
   "execution_count": 316,
   "id": "4ed838de",
   "metadata": {
    "scrolled": false,
    "ExecuteTime": {
     "end_time": "2024-02-17T12:11:03.468537Z",
     "start_time": "2024-02-17T12:11:03.381510Z"
    }
   },
   "outputs": [
    {
     "name": "stdout",
     "output_type": "stream",
     "text": [
      "dataTable = PMC7177019___2.txt\n",
      "dataTable = PMC7177019___2.txt\n",
      "PMC7154115___1.txt\n",
      "dataTable = PMC7079625___g005.txt\n",
      "dataTable = PMC6084502___2_OC.txt\n",
      "dataTable = PMC6084502___2_OC.txt\n",
      "dataTable = PMC6084502___2_OC.txt\n",
      "PMC6114288___g006.txt\n",
      "PMC6635378___3_HTML.txt\n"
     ]
    }
   ],
   "source": [
    "score_val = 0.0\n",
    "counter = 0\n",
    "\n",
    "for filename in os.listdir(text_detect_role_path):\n",
    "#     print(filename)\n",
    "    image_name = image_path + filename\n",
    "    text_detect_filename = text_detect_role_path + filename\n",
    "    bar_plot_filename = bar_plot_path + filename\n",
    "    axis_analysis_filename = axis_analysis_path + filename\n",
    "    gt_coordinates_filename = gt_coordinates_path + filename\n",
    "    \n",
    "    # text detect role\n",
    "    file_content = read_file(text_detect_filename)\n",
    "    result = parse_text_blocks(file_content)\n",
    "\n",
    "    #axis analysis\n",
    "    axis_file_content = read_file(axis_analysis_filename)\n",
    "    axis_result = parse_tick_data(axis_file_content)\n",
    "\n",
    "    #bar analysis\n",
    "    bar_file_content = read_file(bar_plot_filename)\n",
    "    bar_results = parse_bar_data(bar_file_content)\n",
    "\n",
    "    #gt_coordinates\n",
    "    gt_coordinates = read_file(gt_coordinates_filename)\n",
    "    gt_bar_results = parse_gt_bar_data(gt_coordinates)\n",
    "    \n",
    "    try:\n",
    "        gt_bars, dt_bars = map_bars(bar_results['bars'], gt_bar_results['bars'])\n",
    "\n",
    "        xaxis_ticks = axis_result['x-axis']\n",
    "        yaxis_ticks = axis_result['y-axis']\n",
    "        xaxis_polygons, yaxis_polygons, box_tick_mapping = assign_polygons_to_ticks(xaxis_ticks, yaxis_ticks, result)\n",
    "\n",
    "        temp_xaxis_polygon = xaxis_polygons\n",
    "        for polygon in temp_xaxis_polygon:\n",
    "            if polygon['text'] == '0':\n",
    "                xaxis_polygons.remove(polygon)\n",
    "\n",
    "\n",
    "        predicted_y_values = predict_bar_values2(dt_bars, yaxis_ticks,yaxis_polygons)\n",
    "\n",
    "        legend_pairs = find_legend_pairs(result)\n",
    "        data_mapping = data_extraction(predicted_y_values, xaxis_polygons,legend_pairs)\n",
    "\n",
    "        headers, table = dataTable(filename, result, data_mapping )\n",
    "\n",
    "        \n",
    "        data_mapping_pred = convert_table(table)\n",
    "\n",
    "        \n",
    "        data_mapping_gt = data_extraction_for_GT(gt_bar_results,xaxis_polygons, legend_pairs)\n",
    "\n",
    "        counter += 1\n",
    "        predictions, gt = convert_data_for_metrics(data_mapping_pred, data_mapping_gt)\n",
    "    \n",
    "    except:\n",
    "        print(f\"{filename}\")\n",
    "\n",
    "#     print(data_mapping)\n",
    "    "
   ]
  }
 ],
 "metadata": {
  "kernelspec": {
   "display_name": "Python 3 (ipykernel)",
   "language": "python",
   "name": "python3"
  },
  "language_info": {
   "codemirror_mode": {
    "name": "ipython",
    "version": 3
   },
   "file_extension": ".py",
   "mimetype": "text/x-python",
   "name": "python",
   "nbconvert_exporter": "python",
   "pygments_lexer": "ipython3",
   "version": "3.7.16"
  }
 },
 "nbformat": 4,
 "nbformat_minor": 5
}
