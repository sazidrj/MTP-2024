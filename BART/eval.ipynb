{
 "cells": [
  {
   "cell_type": "code",
   "id": "26c2756a",
   "metadata": {
    "ExecuteTime": {
     "end_time": "2024-04-20T05:37:14.518198Z",
     "start_time": "2024-04-20T05:37:12.413034Z"
    }
   },
   "source": [
    "from transformers import pipeline, set_seed, AutoTokenizer, AutoModelForSeq2SeqLM, Seq2SeqTrainingArguments, Seq2SeqTrainer"
   ],
   "outputs": [],
   "execution_count": 1
  },
  {
   "metadata": {
    "ExecuteTime": {
     "end_time": "2024-04-20T05:37:15.238556Z",
     "start_time": "2024-04-20T05:37:15.236142Z"
    }
   },
   "cell_type": "code",
   "source": "from tqdm import tqdm",
   "id": "3b424b428a308927",
   "outputs": [],
   "execution_count": 2
  },
  {
   "cell_type": "code",
   "id": "111e74e9",
   "metadata": {
    "ExecuteTime": {
     "end_time": "2024-04-20T05:37:18.257955Z",
     "start_time": "2024-04-20T05:37:16.195266Z"
    }
   },
   "source": [
    "tokenizer = AutoTokenizer.from_pretrained(\"./conversation-summ/checkpoint-256000/\")\n",
    "model =   AutoModelForSeq2SeqLM.from_pretrained(\"./conversation-summ/checkpoint-256000/\")"
   ],
   "outputs": [],
   "execution_count": 3
  },
  {
   "cell_type": "code",
   "id": "b8187365",
   "metadata": {
    "ExecuteTime": {
     "end_time": "2024-05-07T06:12:55.595660Z",
     "start_time": "2024-05-07T06:12:54.994176Z"
    }
   },
   "source": [
    "import pandas as pd\n",
    "\n",
    "# Load your CSV file using pandas\n",
    "test_df = pd.read_csv('./test.csv')\n",
    "train_df = pd.read_csv('./train.csv')\n",
    "val_df = pd.read_csv('./valid.csv')"
   ],
   "outputs": [],
   "execution_count": 1
  },
  {
   "cell_type": "code",
   "id": "2e505f10",
   "metadata": {
    "ExecuteTime": {
     "end_time": "2024-04-20T05:37:39.949153Z",
     "start_time": "2024-04-20T05:37:39.941879Z"
    }
   },
   "source": [
    "test_df.head()"
   ],
   "outputs": [
    {
     "data": {
      "text/plain": [
       "                                                text  \\\n",
       "0  Leading exporting countries of fish and fisher...   \n",
       "1  Average number of mobile games played daily an...   \n",
       "2  Malaysia : Birth rate from 2008 to 2018 ( per ...   \n",
       "3  To prevent the spread of coronavirus , would y...   \n",
       "4  Top ten PACs advocating for Hillary Clinton 's...   \n",
       "\n",
       "                                             summary  \n",
       "0  The European Union was the top exporter of fis...  \n",
       "1  The graph shows information on the average dai...  \n",
       "2  This statistic depicts the crude birth rate in...  \n",
       "3  In 2020 , a high percentage of respondents in ...  \n",
       "4  This statistic shows the top ten PACs advocati...  "
      ],
      "text/html": [
       "<div>\n",
       "<style scoped>\n",
       "    .dataframe tbody tr th:only-of-type {\n",
       "        vertical-align: middle;\n",
       "    }\n",
       "\n",
       "    .dataframe tbody tr th {\n",
       "        vertical-align: top;\n",
       "    }\n",
       "\n",
       "    .dataframe thead th {\n",
       "        text-align: right;\n",
       "    }\n",
       "</style>\n",
       "<table border=\"1\" class=\"dataframe\">\n",
       "  <thead>\n",
       "    <tr style=\"text-align: right;\">\n",
       "      <th></th>\n",
       "      <th>text</th>\n",
       "      <th>summary</th>\n",
       "    </tr>\n",
       "  </thead>\n",
       "  <tbody>\n",
       "    <tr>\n",
       "      <th>0</th>\n",
       "      <td>Leading exporting countries of fish and fisher...</td>\n",
       "      <td>The European Union was the top exporter of fis...</td>\n",
       "    </tr>\n",
       "    <tr>\n",
       "      <th>1</th>\n",
       "      <td>Average number of mobile games played daily an...</td>\n",
       "      <td>The graph shows information on the average dai...</td>\n",
       "    </tr>\n",
       "    <tr>\n",
       "      <th>2</th>\n",
       "      <td>Malaysia : Birth rate from 2008 to 2018 ( per ...</td>\n",
       "      <td>This statistic depicts the crude birth rate in...</td>\n",
       "    </tr>\n",
       "    <tr>\n",
       "      <th>3</th>\n",
       "      <td>To prevent the spread of coronavirus , would y...</td>\n",
       "      <td>In 2020 , a high percentage of respondents in ...</td>\n",
       "    </tr>\n",
       "    <tr>\n",
       "      <th>4</th>\n",
       "      <td>Top ten PACs advocating for Hillary Clinton 's...</td>\n",
       "      <td>This statistic shows the top ten PACs advocati...</td>\n",
       "    </tr>\n",
       "  </tbody>\n",
       "</table>\n",
       "</div>"
      ]
     },
     "execution_count": 6,
     "metadata": {},
     "output_type": "execute_result"
    }
   ],
   "execution_count": 6
  },
  {
   "cell_type": "code",
   "id": "8c2a2e9e",
   "metadata": {
    "ExecuteTime": {
     "end_time": "2024-04-08T07:54:21.802184Z",
     "start_time": "2024-04-08T07:54:21.798540Z"
    }
   },
   "source": [
    "data = test_df.iloc[0]['text']\n",
    "data"
   ],
   "outputs": [
    {
     "data": {
      "text/plain": [
       "'Leading exporting countries of fish and fishery products worldwide in 2019 ( in billion U.S. dollars ) Country, x-y labels Exports in million U.S. dollars, x-y values EU** 36.2 , China 22.7 , Norway 11.9 , Vietnam 9.5 , Chile 6.7 , India 6.6 , Thailand 5.7 , United States 5.5 , Canada 5.5 , Ecuador 5.4 , Russia 5.4 , Indonesia 4.4 , '"
      ]
     },
     "execution_count": 6,
     "metadata": {},
     "output_type": "execute_result"
    }
   ],
   "execution_count": 6
  },
  {
   "cell_type": "code",
   "id": "eba029cb",
   "metadata": {
    "ExecuteTime": {
     "end_time": "2024-04-08T07:54:24.721575Z",
     "start_time": "2024-04-08T07:54:22.611052Z"
    }
   },
   "source": [
    "tokens = tokenizer.encode(data,  truncation=True, padding='max_length', return_tensors='pt')\n",
    "generated = model.generate(tokens, num_beams=4, max_length=256)\n",
    "tgt_text = tokenizer.decode(generated[0], skip_special_tokens=True, clean_up_tokenization_spaces=True)\n",
    "summary = str(tgt_text).strip('[]\"\"')"
   ],
   "outputs": [],
   "execution_count": 7
  },
  {
   "cell_type": "code",
   "id": "044bb42e",
   "metadata": {
    "ExecuteTime": {
     "end_time": "2024-04-08T07:54:24.727154Z",
     "start_time": "2024-04-08T07:54:24.723467Z"
    }
   },
   "source": [
    "summary"
   ],
   "outputs": [
    {
     "data": {
      "text/plain": [
       "'In 2019, the European Union was the leading exporter of fish and fishery products to the rest of the world, with an export value of approximately 36.2 billion U.S. dollars. China, ranked second, exported approximately 22.7 billion dollars worth of fish/fishery products that year.'"
      ]
     },
     "execution_count": 8,
     "metadata": {},
     "output_type": "execute_result"
    }
   ],
   "execution_count": 8
  },
  {
   "cell_type": "code",
   "id": "66379b45",
   "metadata": {
    "ExecuteTime": {
     "end_time": "2024-04-08T07:54:24.732241Z",
     "start_time": "2024-04-08T07:54:24.728589Z"
    }
   },
   "source": [
    "len(test_df)"
   ],
   "outputs": [
    {
     "data": {
      "text/plain": [
       "5222"
      ]
     },
     "execution_count": 9,
     "metadata": {},
     "output_type": "execute_result"
    }
   ],
   "execution_count": 9
  },
  {
   "cell_type": "code",
   "id": "fb96d6cf",
   "metadata": {
    "ExecuteTime": {
     "end_time": "2024-05-07T06:25:59.056359Z",
     "start_time": "2024-05-07T06:25:59.043825Z"
    }
   },
   "source": [
    "from tqdm import tqdm"
   ],
   "outputs": [],
   "execution_count": 4
  },
  {
   "cell_type": "code",
   "id": "55fd4344",
   "metadata": {
    "ExecuteTime": {
     "end_time": "2024-04-08T10:26:27.787653Z",
     "start_time": "2024-04-08T07:54:26.730251Z"
    }
   },
   "source": [
    "with open(\"pred_summary.txt\", \"a\") as file:\n",
    "\n",
    "    for i in tqdm(range(len(test_df))):\n",
    "        data = test_df.iloc[i]['text']\n",
    "\n",
    "        tokens = tokenizer.encode(data,  truncation=True, padding='max_length', return_tensors='pt')\n",
    "        generated = model.generate(tokens, num_beams=4, max_length=256)\n",
    "        tgt_text = tokenizer.decode(generated[0], skip_special_tokens=True, clean_up_tokenization_spaces=True)\n",
    "        summary = str(tgt_text).strip('[]\"\"')\n",
    "        \n",
    "        file.write(summary +  \"\\n\")    "
   ],
   "outputs": [
    {
     "name": "stderr",
     "output_type": "stream",
     "text": [
      "100%|██████████| 5222/5222 [2:32:01<00:00,  1.75s/it]  \n"
     ]
    }
   ],
   "execution_count": 11
  },
  {
   "cell_type": "code",
   "id": "63248f29",
   "metadata": {
    "ExecuteTime": {
     "end_time": "2024-04-20T05:39:11.901871Z",
     "start_time": "2024-04-20T05:39:11.677387Z"
    }
   },
   "source": [
    "with open(\"original_summary.txt\", \"a\") as file:\n",
    "    \n",
    "    for i in tqdm(range(len(test_df))):\n",
    "        data = test_df.iloc[i]['summary']\n",
    "        \n",
    "        file.write(data + \"\\n\")"
   ],
   "outputs": [
    {
     "name": "stderr",
     "output_type": "stream",
     "text": [
      "100%|██████████| 5222/5222 [00:00<00:00, 23737.08it/s]\n"
     ]
    }
   ],
   "execution_count": 12
  },
  {
   "metadata": {
    "ExecuteTime": {
     "end_time": "2024-04-20T05:38:53.477107Z",
     "start_time": "2024-04-20T05:38:53.473526Z"
    }
   },
   "cell_type": "code",
   "source": "len(test_df)",
   "id": "546d39f076fcd013",
   "outputs": [
    {
     "data": {
      "text/plain": [
       "5222"
      ]
     },
     "execution_count": 10,
     "metadata": {},
     "output_type": "execute_result"
    }
   ],
   "execution_count": 10
  },
  {
   "metadata": {
    "ExecuteTime": {
     "end_time": "2024-05-07T06:14:14.761782Z",
     "start_time": "2024-05-07T06:14:14.756754Z"
    }
   },
   "cell_type": "code",
   "source": "test_df.iloc[0]['text']",
   "id": "ed39dacccfcffe59",
   "outputs": [
    {
     "data": {
      "text/plain": [
       "'Leading exporting countries of fish and fishery products worldwide in 2019 ( in billion U.S. dollars ) Country, x-y labels Exports in million U.S. dollars, x-y values EU** 36.2 , China 22.7 , Norway 11.9 , Vietnam 9.5 , Chile 6.7 , India 6.6 , Thailand 5.7 , United States 5.5 , Canada 5.5 , Ecuador 5.4 , Russia 5.4 , Indonesia 4.4 , '"
      ]
     },
     "execution_count": 2,
     "metadata": {},
     "output_type": "execute_result"
    }
   ],
   "execution_count": 2
  },
  {
   "metadata": {
    "ExecuteTime": {
     "end_time": "2024-05-07T06:26:01.181442Z",
     "start_time": "2024-05-07T06:26:00.948774Z"
    }
   },
   "cell_type": "code",
   "source": [
    "with open(\"test_data.txt\", \"a\") as file:\n",
    "    for i in tqdm(range(len(test_df))):\n",
    "        data = test_df.iloc[i]['text']\n",
    "        \n",
    "        file.write(data + \"\\n\")"
   ],
   "id": "a431de2f3f5448b8",
   "outputs": [
    {
     "name": "stderr",
     "output_type": "stream",
     "text": [
      "100%|██████████| 5222/5222 [00:00<00:00, 23866.30it/s]\n"
     ]
    }
   ],
   "execution_count": 5
  },
  {
   "metadata": {},
   "cell_type": "code",
   "outputs": [],
   "execution_count": null,
   "source": "",
   "id": "eaf0e0fe9e492ae7"
  }
 ],
 "metadata": {
  "kernelspec": {
   "display_name": "Python 3 (ipykernel)",
   "language": "python",
   "name": "python3"
  },
  "language_info": {
   "codemirror_mode": {
    "name": "ipython",
    "version": 3
   },
   "file_extension": ".py",
   "mimetype": "text/x-python",
   "name": "python",
   "nbconvert_exporter": "python",
   "pygments_lexer": "ipython3",
   "version": "3.7.16"
  }
 },
 "nbformat": 4,
 "nbformat_minor": 5
}
